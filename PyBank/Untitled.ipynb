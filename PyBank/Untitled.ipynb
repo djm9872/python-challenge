{
 "cells": [
  {
   "cell_type": "code",
   "execution_count": 1,
   "metadata": {},
   "outputs": [
    {
     "name": "stdout",
     "output_type": "stream",
     "text": [
      "Financial Analysis\n",
      "______________________________\n",
      "Total Months: 86\n",
      "Total: $38382578\n"
     ]
    }
   ],
   "source": [
    "#import modules\n",
    "import os\n",
    "import csv\n",
    "\n",
    "#create path to file\n",
    "csvpath = os.path.join(\"Resources\", \"budget_data.csv\")\n",
    "\n",
    "rowcount = 0\n",
    "sumrows = 0\n",
    "\n",
    "#open the csv file\n",
    "with open(csvpath,newline=\"\") as csvfile:\n",
    "    csvreader = csv.reader(csvfile,delimiter=\",\")\n",
    "    \n",
    "#read the header row   \n",
    "    csv_header = next(csvreader)\n",
    "    print(\"Financial Analysis\")\n",
    "    print(\"______________________________\")\n",
    "#read through each row and get sum of rows and total sum\n",
    "    for row in csvreader:\n",
    "        rowcount += 1\n",
    "        sumrows += int(row[1])\n",
    "    print(f\"Total Months: {rowcount}\")\n",
    "    print(f\"Total: ${sumrows}\")"
   ]
  },
  {
   "cell_type": "code",
   "execution_count": null,
   "metadata": {},
   "outputs": [],
   "source": []
  }
 ],
 "metadata": {
  "kernelspec": {
   "display_name": "tuesday_pandas",
   "language": "python",
   "name": "tuesday_pandas"
  },
  "language_info": {
   "codemirror_mode": {
    "name": "ipython",
    "version": 3
   },
   "file_extension": ".py",
   "mimetype": "text/x-python",
   "name": "python",
   "nbconvert_exporter": "python",
   "pygments_lexer": "ipython3",
   "version": "3.6.7"
  }
 },
 "nbformat": 4,
 "nbformat_minor": 2
}
